{
 "cells": [
  {
   "cell_type": "code",
   "execution_count": null,
   "id": "4558d063",
   "metadata": {
    "vscode": {
     "languageId": "plaintext"
    }
   },
   "outputs": [],
   "source": [
    "import pandas as pd\n",
    "import seaborn as sns\n",
    "import matplotlib.pyplot as plt\n",
    "from scripts.preprocess_logs import load_logs\n",
    "from scripts.feature_engineering import extract_time_features\n",
    "from scripts.anomaly_detection import detect_anomalies\n",
    "\n",
    "logs = load_logs(\"../data/sample_syslog.csv\")\n",
    "logs = extract_time_features(logs)\n",
    "logs = detect_anomalies(logs)\n",
    "\n",
    "# Visualization\n",
    "sns.scatterplot(data=logs, x='timestamp', y='message_length', hue='anomaly')\n",
    "plt.xticks(rotation=45)\n",
    "plt.show()\n"
   ]
  }
 ],
 "metadata": {
  "language_info": {
   "name": "python"
  }
 },
 "nbformat": 4,
 "nbformat_minor": 5
}
